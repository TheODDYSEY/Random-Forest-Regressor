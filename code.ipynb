{
 "cells": [
  {
   "cell_type": "code",
   "execution_count": null,
   "metadata": {},
   "outputs": [],
   "source": [
    "# Import libraries\n",
    "import streamlit as st\n",
    "import pandas as pd\n",
    "import matplotlib.pyplot as plt\n",
    "import seaborn as sns\n",
    "from sklearn.ensemble import RandomForestRegressor\n",
    "from sklearn.model_selection import train_test_split\n",
    "from sklearn.metrics import r2_score, mean_squared_error\n",
    "import numpy as np"
   ]
  },
  {
   "cell_type": "code",
   "execution_count": null,
   "metadata": {},
   "outputs": [],
   "source": [
    "# Deprecated function warning is disabled\n",
    "st.set_option('deprecation.showPyplotGlobalUse', False)"
   ]
  },
  {
   "cell_type": "code",
   "execution_count": null,
   "metadata": {},
   "outputs": [],
   "source": [
    "# Load data : put the file in the same directory as the script and use relative path to the data file (Tested Using github repository)\n",
    "\n",
    "file_path = './Data_BarbeauFlux_noNaN.csv'\n",
    "\n",
    "data = pd.read_csv(file_path, header=0, sep=';', decimal='.', index_col=0)\n",
    "column_names = data.columns.tolist()\n",
    "\n",
    "# Drop rows with NaN values\n",
    "data = data.dropna()\n",
    "\n",
    "# Get column names\n",
    "column_names = data.columns"
   ]
  },
  {
   "cell_type": "code",
   "execution_count": null,
   "metadata": {},
   "outputs": [],
   "source": [
    "# Author text\n",
    "st.sidebar.markdown('<h5 style=\"color: black;\"> Author : Kamel SOUDANI </h5>', unsafe_allow_html=True)\n",
    "\n",
    "# Sidebar for user input selection\n",
    "st.sidebar.markdown('<h1 style=\"color: blue;\">Select One output and at least one input Variable</h1>', unsafe_allow_html=True)\n",
    "# Select output variable\n",
    "output_variable_model = st.sidebar.selectbox('Select One output Variable', column_names)\n",
    "\n",
    "# Select input variables to predict the target variable (output)\n",
    "input_variables_model = st.sidebar.multiselect('Select at least one input Variable', column_names, default=['R_450', 'R_550', 'R_650', 'R_720', 'R_750', 'R_800'])\n",
    "\n",
    "if not output_variable_model or not input_variables_model:\n",
    "    st.warning('Select One output and at least one input Variable to start.')\n",
    "\n",
    "# User option for setting the rate of test data\n",
    "test_data_rate = st.sidebar.slider('Select the rate of test data (%)', 0, 100, 20, 1)"
   ]
  },
  {
   "cell_type": "code",
   "execution_count": null,
   "metadata": {},
   "outputs": [],
   "source": [
    "# Define input features (X) and target variable (y) for model training\n",
    "X_model = data[input_variables_model]\n",
    "y_model = data[output_variable_model]\n",
    "\n",
    "# Split the data into training and testing sets\n",
    "X_train, X_test, y_train, y_test = train_test_split(X_model, y_model, test_size=test_data_rate / 100, random_state=42)\n",
    "\n",
    "# Train Random Forest model\n",
    "model = RandomForestRegressor()\n",
    "model.fit(X_train, y_train)"
   ]
  },
  {
   "cell_type": "code",
   "execution_count": null,
   "metadata": {},
   "outputs": [],
   "source": [
    "# Streamlit application\n",
    "# Model Training and Validation\n",
    "\n",
    "st.title('Machine Learning Model: Training, Validation and Prediction using Random Forest Algorithm')\n",
    "st.markdown('<h4 style=\"color: black;\"> This program allows to build a random forest model and to implement it to allow the user to predict an output target variable from given values of input variables. To build the model, the user select a combination of one \"output\" variable and at least one input variable from the list. </h4>', unsafe_allow_html=True)\n",
    "\n",
    "# Display information about the trained model\n",
    "st.header('Model Information')\n",
    "st.write(f'Output Variable (Target): {output_variable_model}')\n",
    "st.write(f'Input Variables: {\", \".join(input_variables_model)}')\n",
    "st.write(f'Training Data Shape: {X_train.shape}')\n",
    "st.write(f'Test Data Shape: {X_test.shape}')\n",
    "\n",
    "# Display scatter plot chart of predicted vs observed values for test data\n",
    "st.subheader('Scatter Plot: Predicted vs Observed (Test Data)')\n",
    "\n",
    "test_predictions = model.predict(X_test)\n",
    "scatter_df = pd.DataFrame({'Observed': y_test, 'Predicted': test_predictions})\n",
    "fig, ax = plt.subplots(figsize=(8, 5))\n",
    "\n",
    "# Create a scatter plot with a regression line\n",
    "fig, ax = plt.subplots(figsize=(8, 5))\n",
    "scatter_plot = sns.regplot(x='Observed', y='Predicted', data=scatter_df, ax=ax)\n",
    "\n",
    "# Calculate R-squared value\n",
    "r_squared = r2_score(y_test, test_predictions)\n",
    "\n",
    "# Calculate Root Mean Squared Error (RMSE)\n",
    "rmse = np.sqrt(mean_squared_error(y_test, test_predictions))\n",
    "\n",
    "# Add R-squared and RMSE as annotations\n",
    "text = f'R-squared: {r_squared:.2f}\\nRMSE: {rmse:.2f}'\n",
    "ax.text(0.05, 0.9, text, transform=ax.transAxes, color='blue', fontsize=12)\n",
    "\n",
    "# Customize title and labels\n",
    "scatter_plot.set_title(f'Predicted vs Observed {output_variable_model}', color='blue')\n",
    "scatter_plot.set_xlabel('Observed', color='blue')\n",
    "scatter_plot.set_ylabel('Predicted', color='blue')\n",
    "\n",
    "# Show the plot\n",
    "st.pyplot(fig)\n",
    "\n",
    "# Display feature importance chart\n",
    "st.subheader('Feature Importance Chart')\n",
    "feature_importance_model = pd.Series(model.feature_importances_, index=input_variables_model).sort_values(ascending=False)\n",
    "fig, ax=plt.subplots(figsize=(10, 6))\n",
    "sns.barplot(x=feature_importance_model, y=feature_importance_model.index, palette='viridis')\n",
    "ax.set_title('Random Forest Feature Importance')\n",
    "st.pyplot(fig)"
   ]
  },
  {
   "cell_type": "code",
   "execution_count": null,
   "metadata": {},
   "outputs": [],
   "source": [
    "# Use the model for prediction\n",
    "st.title('Use the Model for Prediction')\n",
    "st.markdown('<h4 style=\"color: black;\"> Use Sidebar menu to select the values of input variables to predict the target variable. </h4>', unsafe_allow_html=True)\n",
    "\n",
    "# User input for feature values\n",
    "st.sidebar.markdown('<h2 style=\"color: blue;\"> Select the values of input variables to predict the target variable</h2>', unsafe_allow_html=True)\n",
    "user_input_prediction = {}\n",
    "for column in input_variables_model:\n",
    "    user_input_prediction[column] = st.sidebar.slider(f'Select {column}', float(data[column].min()), float(data[column].max()), float(data[column].mean()))\n",
    "\n",
    "# Predict and display result\n",
    "prediction = model.predict(pd.DataFrame([user_input_prediction]))\n",
    "st.subheader('Prediction')\n",
    "st.write(f'The predicted {output_variable_model} value is: {prediction[0]:.5f}')\n",
    "\n",
    "# Display a bar chart for the predicted output\n",
    "st.subheader('Predicted Output Chart')\n",
    "prediction_data = pd.DataFrame({output_variable_model: [prediction[0]]})\n",
    "fig, ax=plt.subplots(figsize=(8, 5))\n",
    "sns.barplot(data=prediction_data, palette=['orange'])\n",
    "ax.set_title(f'Predicted {output_variable_model} Value')\n",
    "ax.set_ylabel('Value')\n",
    "st.pyplot(fig)"
   ]
  }
 ],
 "metadata": {
  "kernelspec": {
   "display_name": "Python 3",
   "language": "python",
   "name": "python3"
  },
  "language_info": {
   "codemirror_mode": {
    "name": "ipython",
    "version": 3
   },
   "file_extension": ".py",
   "mimetype": "text/x-python",
   "name": "python",
   "nbconvert_exporter": "python",
   "pygments_lexer": "ipython3",
   "version": "3.12.3"
  }
 },
 "nbformat": 4,
 "nbformat_minor": 2
}
